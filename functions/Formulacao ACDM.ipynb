{
 "cells": [
  {
   "cell_type": "markdown",
   "metadata": {},
   "source": [
    "# Formulação matemática ACDM"
   ]
  },
  {
   "cell_type": "code",
   "execution_count": 1,
   "metadata": {},
   "outputs": [
    {
     "name": "stdout",
     "output_type": "stream",
     "text": [
      "\u001b[32m\u001b[1m  Updating\u001b[22m\u001b[39m registry at `C:\\Users\\Catarina\\.julia\\registries\\General`\n",
      "\u001b[32m\u001b[1m  Updating\u001b[22m\u001b[39m git-repo `https://github.com/JuliaRegistries/General.git`\n",
      "\u001b[2K\u001b[?25h[1mFetching:\u001b[22m\u001b[39m [========================================>]  100.0 %.0 %\u001b[32m\u001b[1m Resolving\u001b[22m\u001b[39m package versions...\n",
      "\u001b[32m\u001b[1m  Updating\u001b[22m\u001b[39m `C:\\Users\\Catarina\\.julia\\environments\\v1.1\\Project.toml`\n",
      "\u001b[90m [no changes]\u001b[39m\n",
      "\u001b[32m\u001b[1m  Updating\u001b[22m\u001b[39m `C:\\Users\\Catarina\\.julia\\environments\\v1.1\\Manifest.toml`\n",
      "\u001b[90m [no changes]\u001b[39m\n"
     ]
    }
   ],
   "source": [
    "import Pkg; Pkg.add(\"JuMP\")"
   ]
  },
  {
   "cell_type": "code",
   "execution_count": 2,
   "metadata": {},
   "outputs": [
    {
     "name": "stdout",
     "output_type": "stream",
     "text": [
      "\u001b[32m\u001b[1m Resolving\u001b[22m\u001b[39m package versions...\n",
      "\u001b[32m\u001b[1m  Updating\u001b[22m\u001b[39m `C:\\Users\\Catarina\\.julia\\environments\\v1.1\\Project.toml`\n",
      "\u001b[90m [no changes]\u001b[39m\n",
      "\u001b[32m\u001b[1m  Updating\u001b[22m\u001b[39m `C:\\Users\\Catarina\\.julia\\environments\\v1.1\\Manifest.toml`\n",
      "\u001b[90m [no changes]\u001b[39m\n"
     ]
    }
   ],
   "source": [
    "Pkg.add(\"GLPK\")"
   ]
  },
  {
   "cell_type": "code",
   "execution_count": 3,
   "metadata": {},
   "outputs": [],
   "source": [
    " using LinearAlgebra"
   ]
  },
  {
   "cell_type": "code",
   "execution_count": 4,
   "metadata": {},
   "outputs": [],
   "source": [
    "using JuMP"
   ]
  },
  {
   "cell_type": "code",
   "execution_count": 5,
   "metadata": {
    "scrolled": true
   },
   "outputs": [],
   "source": [
    "using GLPKMathProgInterface\n"
   ]
  },
  {
   "cell_type": "code",
   "execution_count": 6,
   "metadata": {},
   "outputs": [],
   "source": [
    "using GLPK"
   ]
  },
  {
   "cell_type": "code",
   "execution_count": 7,
   "metadata": {},
   "outputs": [
    {
     "data": {
      "text/plain": [
       "\"trsp_50_1.dat\""
      ]
     },
     "execution_count": 7,
     "metadata": {},
     "output_type": "execute_result"
    }
   ],
   "source": [
    "file_name = \"trsp_50_1.dat\""
   ]
  },
  {
   "cell_type": "code",
   "execution_count": 8,
   "metadata": {},
   "outputs": [
    {
     "data": {
      "text/plain": [
       "IOStream(<file trsp_50_1.dat>)"
      ]
     },
     "execution_count": 8,
     "metadata": {},
     "output_type": "execute_result"
    }
   ],
   "source": [
    "file = open(file_name)"
   ]
  },
  {
   "cell_type": "code",
   "execution_count": 9,
   "metadata": {},
   "outputs": [
    {
     "data": {
      "text/plain": [
       "51-element Array{String,1}:\n",
       " \"50\"\n",
       " \"91\"\n",
       " \"38\"\n",
       " \"58\"\n",
       " \"16\"\n",
       " \"5\" \n",
       " \"28\"\n",
       " \"35\"\n",
       " \"95\"\n",
       " \"18\"\n",
       " \"27\"\n",
       " \"38\"\n",
       " \"74\"\n",
       " ⋮   \n",
       " \"18\"\n",
       " \"65\"\n",
       " \"86\"\n",
       " \"58\"\n",
       " \"7\" \n",
       " \"55\"\n",
       " \"99\"\n",
       " \"4\" \n",
       " \"62\"\n",
       " \"40\"\n",
       " \"81\"\n",
       " \"74\""
      ]
     },
     "execution_count": 9,
     "metadata": {},
     "output_type": "execute_result"
    }
   ],
   "source": [
    "lines = readlines(file)"
   ]
  },
  {
   "cell_type": "code",
   "execution_count": 10,
   "metadata": {},
   "outputs": [],
   "source": [
    "close(file)"
   ]
  },
  {
   "cell_type": "code",
   "execution_count": 11,
   "metadata": {},
   "outputs": [
    {
     "data": {
      "text/plain": [
       "50-element Array{Float64,1}:\n",
       " 0.0\n",
       " 0.0\n",
       " 0.0\n",
       " 0.0\n",
       " 0.0\n",
       " 0.0\n",
       " 0.0\n",
       " 0.0\n",
       " 0.0\n",
       " 0.0\n",
       " 0.0\n",
       " 0.0\n",
       " 0.0\n",
       " ⋮  \n",
       " 0.0\n",
       " 0.0\n",
       " 0.0\n",
       " 0.0\n",
       " 0.0\n",
       " 0.0\n",
       " 0.0\n",
       " 0.0\n",
       " 0.0\n",
       " 0.0\n",
       " 0.0\n",
       " 0.0"
      ]
     },
     "execution_count": 11,
     "metadata": {},
     "output_type": "execute_result"
    }
   ],
   "source": [
    "firstLine = split(lines[1])\n",
    "n = parse(Int64, firstLine[1])\n",
    "p = zeros(n)\n",
    "#p = transpose(p)"
   ]
  },
  {
   "cell_type": "code",
   "execution_count": 12,
   "metadata": {},
   "outputs": [],
   "source": [
    "for i=1:n\n",
    "    line_to_read = split(lines[i+1])\n",
    "    p[i] = parse(Float64, line_to_read[1]) \n",
    "end"
   ]
  },
  {
   "cell_type": "code",
   "execution_count": 13,
   "metadata": {},
   "outputs": [
    {
     "data": {
      "text/plain": [
       "50×50 Array{Int64,2}:\n",
       " 1  0  0  0  0  0  0  0  0  0  0  0  0  …  0  0  0  0  0  0  0  0  0  0  0  0\n",
       " 0  1  0  0  0  0  0  0  0  0  0  0  0     0  0  0  0  0  0  0  0  0  0  0  0\n",
       " 0  0  1  0  0  0  0  0  0  0  0  0  0     0  0  0  0  0  0  0  0  0  0  0  0\n",
       " 0  0  0  1  0  0  0  0  0  0  0  0  0     0  0  0  0  0  0  0  0  0  0  0  0\n",
       " 0  0  0  0  1  0  0  0  0  0  0  0  0     0  0  0  0  0  0  0  0  0  0  0  0\n",
       " 0  0  0  0  0  1  0  0  0  0  0  0  0  …  0  0  0  0  0  0  0  0  0  0  0  0\n",
       " 0  0  0  0  0  0  1  0  0  0  0  0  0     0  0  0  0  0  0  0  0  0  0  0  0\n",
       " 0  0  0  0  0  0  0  1  0  0  0  0  0     0  0  0  0  0  0  0  0  0  0  0  0\n",
       " 0  0  0  0  0  0  0  0  1  0  0  0  0     0  0  0  0  0  0  0  0  0  0  0  0\n",
       " 0  0  0  0  0  0  0  0  0  1  0  0  0     0  0  0  0  0  0  0  0  0  0  0  0\n",
       " 0  0  0  0  0  0  0  0  0  0  1  0  0  …  0  0  0  0  0  0  0  0  0  0  0  0\n",
       " 0  0  0  0  0  0  0  0  0  0  0  1  0     0  0  0  0  0  0  0  0  0  0  0  0\n",
       " 0  0  0  0  0  0  0  0  0  0  0  0  1     0  0  0  0  0  0  0  0  0  0  0  0\n",
       " ⋮              ⋮              ⋮        ⋱        ⋮              ⋮            \n",
       " 0  0  0  0  0  0  0  0  0  0  0  0  0     1  0  0  0  0  0  0  0  0  0  0  0\n",
       " 0  0  0  0  0  0  0  0  0  0  0  0  0     0  1  0  0  0  0  0  0  0  0  0  0\n",
       " 0  0  0  0  0  0  0  0  0  0  0  0  0  …  0  0  1  0  0  0  0  0  0  0  0  0\n",
       " 0  0  0  0  0  0  0  0  0  0  0  0  0     0  0  0  1  0  0  0  0  0  0  0  0\n",
       " 0  0  0  0  0  0  0  0  0  0  0  0  0     0  0  0  0  1  0  0  0  0  0  0  0\n",
       " 0  0  0  0  0  0  0  0  0  0  0  0  0     0  0  0  0  0  1  0  0  0  0  0  0\n",
       " 0  0  0  0  0  0  0  0  0  0  0  0  0     0  0  0  0  0  0  1  0  0  0  0  0\n",
       " 0  0  0  0  0  0  0  0  0  0  0  0  0  …  0  0  0  0  0  0  0  1  0  0  0  0\n",
       " 0  0  0  0  0  0  0  0  0  0  0  0  0     0  0  0  0  0  0  0  0  1  0  0  0\n",
       " 0  0  0  0  0  0  0  0  0  0  0  0  0     0  0  0  0  0  0  0  0  0  1  0  0\n",
       " 0  0  0  0  0  0  0  0  0  0  0  0  0     0  0  0  0  0  0  0  0  0  0  1  0\n",
       " 0  0  0  0  0  0  0  0  0  0  0  0  0     0  0  0  0  0  0  0  0  0  0  0  1"
      ]
     },
     "execution_count": 13,
     "metadata": {},
     "output_type": "execute_result"
    }
   ],
   "source": [
    "xij = Matrix{Int64}(I, n, n)"
   ]
  },
  {
   "cell_type": "code",
   "execution_count": 14,
   "metadata": {},
   "outputs": [],
   "source": [
    "for i=1:n\n",
    "    for j=1:n\n",
    "       xij[i, j] = min(p[i], p[j])\n",
    "       xij[j, i] = min(p[i], p[j])\n",
    "    end\n",
    "end"
   ]
  },
  {
   "cell_type": "code",
   "execution_count": 15,
   "metadata": {},
   "outputs": [
    {
     "data": {
      "text/plain": [
       "2705.0"
      ]
     },
     "execution_count": 15,
     "metadata": {},
     "output_type": "execute_result"
    }
   ],
   "source": [
    "M = sum(p[i] for i in 1:n) #+ xij[i, j]"
   ]
  },
  {
   "cell_type": "code",
   "execution_count": 16,
   "metadata": {},
   "outputs": [
    {
     "data": {
      "text/latex": [
       "$$ \\begin{alignat*}{1}\\text{feasibility}\\\\\n",
       "\\text{Subject to} \\quad\\end{alignat*}\n",
       " $$"
      ],
      "text/plain": [
       "A JuMP Model\n",
       "Feasibility problem with:\n",
       "Variables: 0\n",
       "Model mode: AUTOMATIC\n",
       "CachingOptimizer state: EMPTY_OPTIMIZER\n",
       "Solver name: GLPK"
      ]
     },
     "execution_count": 16,
     "metadata": {},
     "output_type": "execute_result"
    }
   ],
   "source": [
    "m = Model(with_optimizer(GLPK.Optimizer))"
   ]
  },
  {
   "cell_type": "code",
   "execution_count": 17,
   "metadata": {},
   "outputs": [
    {
     "data": {
      "text/plain": [
       "50×50 Array{VariableRef,2}:\n",
       " dij[1,1]   dij[1,2]   dij[1,3]   …  dij[1,48]   dij[1,49]   dij[1,50] \n",
       " dij[2,1]   dij[2,2]   dij[2,3]      dij[2,48]   dij[2,49]   dij[2,50] \n",
       " dij[3,1]   dij[3,2]   dij[3,3]      dij[3,48]   dij[3,49]   dij[3,50] \n",
       " dij[4,1]   dij[4,2]   dij[4,3]      dij[4,48]   dij[4,49]   dij[4,50] \n",
       " dij[5,1]   dij[5,2]   dij[5,3]      dij[5,48]   dij[5,49]   dij[5,50] \n",
       " dij[6,1]   dij[6,2]   dij[6,3]   …  dij[6,48]   dij[6,49]   dij[6,50] \n",
       " dij[7,1]   dij[7,2]   dij[7,3]      dij[7,48]   dij[7,49]   dij[7,50] \n",
       " dij[8,1]   dij[8,2]   dij[8,3]      dij[8,48]   dij[8,49]   dij[8,50] \n",
       " dij[9,1]   dij[9,2]   dij[9,3]      dij[9,48]   dij[9,49]   dij[9,50] \n",
       " dij[10,1]  dij[10,2]  dij[10,3]     dij[10,48]  dij[10,49]  dij[10,50]\n",
       " dij[11,1]  dij[11,2]  dij[11,3]  …  dij[11,48]  dij[11,49]  dij[11,50]\n",
       " dij[12,1]  dij[12,2]  dij[12,3]     dij[12,48]  dij[12,49]  dij[12,50]\n",
       " dij[13,1]  dij[13,2]  dij[13,3]     dij[13,48]  dij[13,49]  dij[13,50]\n",
       " ⋮                                ⋱                                    \n",
       " dij[39,1]  dij[39,2]  dij[39,3]     dij[39,48]  dij[39,49]  dij[39,50]\n",
       " dij[40,1]  dij[40,2]  dij[40,3]     dij[40,48]  dij[40,49]  dij[40,50]\n",
       " dij[41,1]  dij[41,2]  dij[41,3]  …  dij[41,48]  dij[41,49]  dij[41,50]\n",
       " dij[42,1]  dij[42,2]  dij[42,3]     dij[42,48]  dij[42,49]  dij[42,50]\n",
       " dij[43,1]  dij[43,2]  dij[43,3]     dij[43,48]  dij[43,49]  dij[43,50]\n",
       " dij[44,1]  dij[44,2]  dij[44,3]     dij[44,48]  dij[44,49]  dij[44,50]\n",
       " dij[45,1]  dij[45,2]  dij[45,3]     dij[45,48]  dij[45,49]  dij[45,50]\n",
       " dij[46,1]  dij[46,2]  dij[46,3]  …  dij[46,48]  dij[46,49]  dij[46,50]\n",
       " dij[47,1]  dij[47,2]  dij[47,3]     dij[47,48]  dij[47,49]  dij[47,50]\n",
       " dij[48,1]  dij[48,2]  dij[48,3]     dij[48,48]  dij[48,49]  dij[48,50]\n",
       " dij[49,1]  dij[49,2]  dij[49,3]     dij[49,48]  dij[49,49]  dij[49,50]\n",
       " dij[50,1]  dij[50,2]  dij[50,3]     dij[50,48]  dij[50,49]  dij[50,50]"
      ]
     },
     "execution_count": 17,
     "metadata": {},
     "output_type": "execute_result"
    }
   ],
   "source": [
    "@variable(m, dij[1:n,1:n],Bin)"
   ]
  },
  {
   "cell_type": "code",
   "execution_count": 18,
   "metadata": {},
   "outputs": [
    {
     "data": {
      "text/latex": [
       "$$ T $$"
      ],
      "text/plain": [
       "T"
      ]
     },
     "execution_count": 18,
     "metadata": {},
     "output_type": "execute_result"
    }
   ],
   "source": [
    "@variable(m, T >=0, Int)"
   ]
  },
  {
   "cell_type": "code",
   "execution_count": 19,
   "metadata": {},
   "outputs": [
    {
     "data": {
      "text/plain": [
       "50-element Array{VariableRef,1}:\n",
       " s[1] \n",
       " s[2] \n",
       " s[3] \n",
       " s[4] \n",
       " s[5] \n",
       " s[6] \n",
       " s[7] \n",
       " s[8] \n",
       " s[9] \n",
       " s[10]\n",
       " s[11]\n",
       " s[12]\n",
       " s[13]\n",
       " ⋮    \n",
       " s[39]\n",
       " s[40]\n",
       " s[41]\n",
       " s[42]\n",
       " s[43]\n",
       " s[44]\n",
       " s[45]\n",
       " s[46]\n",
       " s[47]\n",
       " s[48]\n",
       " s[49]\n",
       " s[50]"
      ]
     },
     "execution_count": 19,
     "metadata": {},
     "output_type": "execute_result"
    }
   ],
   "source": [
    "@variable(m, s[1:n] >=0, Int)"
   ]
  },
  {
   "cell_type": "code",
   "execution_count": 20,
   "metadata": {},
   "outputs": [
    {
     "data": {
      "text/latex": [
       "$$ T $$"
      ],
      "text/plain": [
       "T"
      ]
     },
     "execution_count": 20,
     "metadata": {},
     "output_type": "execute_result"
    }
   ],
   "source": [
    "@objective(m, Min, T) "
   ]
  },
  {
   "cell_type": "code",
   "execution_count": 23,
   "metadata": {},
   "outputs": [
    {
     "data": {
      "text/plain": [
       "50×50 Array{ConstraintRef{Model,C,Shape} where Shape<:AbstractShape where C,2}:\n",
       " -2705 dij[1,1] >= -2614.0                 …  s[1] - s[50] - 2705 dij[1,50] >= -2631.0  \n",
       " s[2] - s[1] - 2705 dij[2,1] >= -2667.0       s[2] - s[50] - 2705 dij[2,50] >= -2667.0  \n",
       " s[3] - s[1] - 2705 dij[3,1] >= -2647.0       s[3] - s[50] - 2705 dij[3,50] >= -2647.0  \n",
       " s[4] - s[1] - 2705 dij[4,1] >= -2689.0       s[4] - s[50] - 2705 dij[4,50] >= -2689.0  \n",
       " s[5] - s[1] - 2705 dij[5,1] >= -2700.0       s[5] - s[50] - 2705 dij[5,50] >= -2700.0  \n",
       " s[6] - s[1] - 2705 dij[6,1] >= -2677.0    …  s[6] - s[50] - 2705 dij[6,50] >= -2677.0  \n",
       " s[7] - s[1] - 2705 dij[7,1] >= -2670.0       s[7] - s[50] - 2705 dij[7,50] >= -2670.0  \n",
       " s[8] - s[1] - 2705 dij[8,1] >= -2614.0       s[8] - s[50] - 2705 dij[8,50] >= -2631.0  \n",
       " s[9] - s[1] - 2705 dij[9,1] >= -2687.0       s[9] - s[50] - 2705 dij[9,50] >= -2687.0  \n",
       " s[10] - s[1] - 2705 dij[10,1] >= -2678.0     s[10] - s[50] - 2705 dij[10,50] >= -2678.0\n",
       " s[11] - s[1] - 2705 dij[11,1] >= -2667.0  …  s[11] - s[50] - 2705 dij[11,50] >= -2667.0\n",
       " s[12] - s[1] - 2705 dij[12,1] >= -2631.0     s[12] - s[50] - 2705 dij[12,50] >= -2631.0\n",
       " s[13] - s[1] - 2705 dij[13,1] >= -2632.0     s[13] - s[50] - 2705 dij[13,50] >= -2632.0\n",
       " ⋮                                         ⋱                                            \n",
       " s[39] - s[1] - 2705 dij[39,1] >= -2687.0     s[39] - s[50] - 2705 dij[39,50] >= -2687.0\n",
       " s[40] - s[1] - 2705 dij[40,1] >= -2640.0     s[40] - s[50] - 2705 dij[40,50] >= -2640.0\n",
       " s[41] - s[1] - 2705 dij[41,1] >= -2619.0  …  s[41] - s[50] - 2705 dij[41,50] >= -2631.0\n",
       " s[42] - s[1] - 2705 dij[42,1] >= -2647.0     s[42] - s[50] - 2705 dij[42,50] >= -2647.0\n",
       " s[43] - s[1] - 2705 dij[43,1] >= -2698.0     s[43] - s[50] - 2705 dij[43,50] >= -2698.0\n",
       " s[44] - s[1] - 2705 dij[44,1] >= -2650.0     s[44] - s[50] - 2705 dij[44,50] >= -2650.0\n",
       " s[45] - s[1] - 2705 dij[45,1] >= -2614.0     s[45] - s[50] - 2705 dij[45,50] >= -2631.0\n",
       " s[46] - s[1] - 2705 dij[46,1] >= -2701.0  …  s[46] - s[50] - 2705 dij[46,50] >= -2701.0\n",
       " s[47] - s[1] - 2705 dij[47,1] >= -2643.0     s[47] - s[50] - 2705 dij[47,50] >= -2643.0\n",
       " s[48] - s[1] - 2705 dij[48,1] >= -2665.0     s[48] - s[50] - 2705 dij[48,50] >= -2665.0\n",
       " s[49] - s[1] - 2705 dij[49,1] >= -2624.0     s[49] - s[50] - 2705 dij[49,50] >= -2631.0\n",
       " s[50] - s[1] - 2705 dij[50,1] >= -2631.0     -2705 dij[50,50] >= -2631.0               "
      ]
     },
     "execution_count": 23,
     "metadata": {},
     "output_type": "execute_result"
    }
   ],
   "source": [
    "@constraint(m, [i in 1:n, j in 1:n], s[i] >= xij[i,j] + s[j] - M * (1 - dij[i,j]))"
   ]
  },
  {
   "cell_type": "code",
   "execution_count": 24,
   "metadata": {},
   "outputs": [
    {
     "data": {
      "text/plain": [
       "50-element Array{ConstraintRef{Model,C,Shape} where Shape<:AbstractShape where C,1}:\n",
       " T - s[1] >= 91.0 \n",
       " T - s[2] >= 38.0 \n",
       " T - s[3] >= 58.0 \n",
       " T - s[4] >= 16.0 \n",
       " T - s[5] >= 5.0  \n",
       " T - s[6] >= 28.0 \n",
       " T - s[7] >= 35.0 \n",
       " T - s[8] >= 95.0 \n",
       " T - s[9] >= 18.0 \n",
       " T - s[10] >= 27.0\n",
       " T - s[11] >= 38.0\n",
       " T - s[12] >= 74.0\n",
       " T - s[13] >= 73.0\n",
       " ⋮                \n",
       " T - s[39] >= 18.0\n",
       " T - s[40] >= 65.0\n",
       " T - s[41] >= 86.0\n",
       " T - s[42] >= 58.0\n",
       " T - s[43] >= 7.0 \n",
       " T - s[44] >= 55.0\n",
       " T - s[45] >= 99.0\n",
       " T - s[46] >= 4.0 \n",
       " T - s[47] >= 62.0\n",
       " T - s[48] >= 40.0\n",
       " T - s[49] >= 81.0\n",
       " T - s[50] >= 74.0"
      ]
     },
     "execution_count": 24,
     "metadata": {},
     "output_type": "execute_result"
    }
   ],
   "source": [
    "@constraint(m, [i in 1:n], T >= s[i] + p[i]) "
   ]
  },
  {
   "cell_type": "code",
   "execution_count": 25,
   "metadata": {},
   "outputs": [
    {
     "data": {
      "text/plain": [
       "50×50 Array{ConstraintRef{Model,C,Shape} where Shape<:AbstractShape where C,2}:\n",
       " 2 dij[1,1] <= 1.0             …  dij[1,50] + dij[50,1] <= 1.0  \n",
       " dij[2,1] + dij[1,2] <= 1.0       dij[2,50] + dij[50,2] <= 1.0  \n",
       " dij[3,1] + dij[1,3] <= 1.0       dij[3,50] + dij[50,3] <= 1.0  \n",
       " dij[4,1] + dij[1,4] <= 1.0       dij[4,50] + dij[50,4] <= 1.0  \n",
       " dij[5,1] + dij[1,5] <= 1.0       dij[5,50] + dij[50,5] <= 1.0  \n",
       " dij[6,1] + dij[1,6] <= 1.0    …  dij[6,50] + dij[50,6] <= 1.0  \n",
       " dij[7,1] + dij[1,7] <= 1.0       dij[7,50] + dij[50,7] <= 1.0  \n",
       " dij[8,1] + dij[1,8] <= 1.0       dij[8,50] + dij[50,8] <= 1.0  \n",
       " dij[9,1] + dij[1,9] <= 1.0       dij[9,50] + dij[50,9] <= 1.0  \n",
       " dij[10,1] + dij[1,10] <= 1.0     dij[10,50] + dij[50,10] <= 1.0\n",
       " dij[11,1] + dij[1,11] <= 1.0  …  dij[11,50] + dij[50,11] <= 1.0\n",
       " dij[12,1] + dij[1,12] <= 1.0     dij[12,50] + dij[50,12] <= 1.0\n",
       " dij[13,1] + dij[1,13] <= 1.0     dij[13,50] + dij[50,13] <= 1.0\n",
       " ⋮                             ⋱                                \n",
       " dij[39,1] + dij[1,39] <= 1.0     dij[39,50] + dij[50,39] <= 1.0\n",
       " dij[40,1] + dij[1,40] <= 1.0     dij[40,50] + dij[50,40] <= 1.0\n",
       " dij[41,1] + dij[1,41] <= 1.0  …  dij[41,50] + dij[50,41] <= 1.0\n",
       " dij[42,1] + dij[1,42] <= 1.0     dij[42,50] + dij[50,42] <= 1.0\n",
       " dij[43,1] + dij[1,43] <= 1.0     dij[43,50] + dij[50,43] <= 1.0\n",
       " dij[44,1] + dij[1,44] <= 1.0     dij[44,50] + dij[50,44] <= 1.0\n",
       " dij[45,1] + dij[1,45] <= 1.0     dij[45,50] + dij[50,45] <= 1.0\n",
       " dij[46,1] + dij[1,46] <= 1.0  …  dij[46,50] + dij[50,46] <= 1.0\n",
       " dij[47,1] + dij[1,47] <= 1.0     dij[47,50] + dij[50,47] <= 1.0\n",
       " dij[48,1] + dij[1,48] <= 1.0     dij[48,50] + dij[50,48] <= 1.0\n",
       " dij[49,1] + dij[1,49] <= 1.0     dij[49,50] + dij[50,49] <= 1.0\n",
       " dij[50,1] + dij[1,50] <= 1.0     2 dij[50,50] <= 1.0           "
      ]
     },
     "execution_count": 25,
     "metadata": {},
     "output_type": "execute_result"
    }
   ],
   "source": [
    "@constraint(m, [i in 1:n, j in 1:n], dij[i,j] + dij[j,i] <= 1)  "
   ]
  },
  {
   "cell_type": "code",
   "execution_count": 26,
   "metadata": {},
   "outputs": [],
   "source": [
    "optimize!(m)"
   ]
  },
  {
   "cell_type": "code",
   "execution_count": 27,
   "metadata": {},
   "outputs": [
    {
     "data": {
      "text/plain": [
       "99.0"
      ]
     },
     "execution_count": 27,
     "metadata": {},
     "output_type": "execute_result"
    }
   ],
   "source": [
    "if termination_status(m) == MOI.OPTIMAL\n",
    "    optimal_solution = value.(s[1:n])\n",
    "    optimal_objective = objective_value(m)\n",
    "elseif termination_status(m) == MOI.TIME_LIMIT && has_values(m)\n",
    "    suboptimal_solution = value.(s[1:n])\n",
    "    suboptimal_objective = objective_value(m)\n",
    "else\n",
    "    error(\"The model was not solved correctly.\")\n",
    "end"
   ]
  }
 ],
 "metadata": {
  "kernelspec": {
   "display_name": "Julia 1.1.1",
   "language": "julia",
   "name": "julia-1.1"
  },
  "language_info": {
   "file_extension": ".jl",
   "mimetype": "application/julia",
   "name": "julia",
   "version": "1.1.1"
  }
 },
 "nbformat": 4,
 "nbformat_minor": 2
}
